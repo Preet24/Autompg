{
 "cells": [
  {
   "cell_type": "code",
   "execution_count": 1,
   "metadata": {
    "collapsed": true
   },
   "outputs": [],
   "source": [
    "import pandas as pd\n",
    "import matplotlib\n",
    "import numpy as np\n",
    "import scipy as sp\n",
    "import IPython\n",
    "import sklearn"
   ]
  },
  {
   "cell_type": "code",
   "execution_count": 2,
   "metadata": {},
   "outputs": [
    {
     "name": "stdout",
     "output_type": "stream",
     "text": [
      "    mpg  cylinders  displacement horsepower  weight  acceleration  model year  \\\n",
      "0  18.0          8         307.0      130.0  3504.0          12.0          70   \n",
      "1  15.0          8         350.0      165.0  3693.0          11.5          70   \n",
      "2  18.0          8         318.0      150.0  3436.0          11.0          70   \n",
      "3  16.0          8         304.0      150.0  3433.0          12.0          70   \n",
      "4  17.0          8         302.0      140.0  3449.0          10.5          70   \n",
      "\n",
      "   origin                   car name  \n",
      "0       1  chevrolet chevelle malibu  \n",
      "1       1          buick skylark 320  \n",
      "2       1         plymouth satellite  \n",
      "3       1              amc rebel sst  \n",
      "4       1                ford torino  \n"
     ]
    }
   ],
   "source": [
    "#uploading the data with header\n",
    "# data :https://archive.ics.uci.edu/ml/machine-learning-databases/auto-mpg/\n",
    "data=pd.read_csv('auto-mpg.csv', delim_whitespace=True,names=[\"mpg\",\"cylinders\",\"displacement\",\"horsepower\",\"weight\",\"acceleration\",\n",
    "                                                                \"model year\",\"origin\",\"car name\"])\n",
    "print(data.head())"
   ]
  },
  {
   "cell_type": "markdown",
   "metadata": {},
   "source": [
    "    1. mpg:           continuous\n",
    "    2. cylinders:     multi-valued discrete\n",
    "    3. displacement:  continuous\n",
    "    4. horsepower:    continuous\n",
    "    5. weight:        continuous\n",
    "    6. acceleration:  continuous\n",
    "    7. model year:    multi-valued discrete\n",
    "    8. origin:        multi-valued discrete\n",
    "    9. car name:      string (unique for each instance)"
   ]
  },
  {
   "cell_type": "code",
   "execution_count": 3,
   "metadata": {},
   "outputs": [
    {
     "data": {
      "text/html": [
       "<div>\n",
       "<style>\n",
       "    .dataframe thead tr:only-child th {\n",
       "        text-align: right;\n",
       "    }\n",
       "\n",
       "    .dataframe thead th {\n",
       "        text-align: left;\n",
       "    }\n",
       "\n",
       "    .dataframe tbody tr th {\n",
       "        vertical-align: top;\n",
       "    }\n",
       "</style>\n",
       "<table border=\"1\" class=\"dataframe\">\n",
       "  <thead>\n",
       "    <tr style=\"text-align: right;\">\n",
       "      <th></th>\n",
       "      <th>mpg</th>\n",
       "      <th>cylinders</th>\n",
       "      <th>displacement</th>\n",
       "      <th>horsepower</th>\n",
       "      <th>weight</th>\n",
       "      <th>acceleration</th>\n",
       "      <th>model year</th>\n",
       "      <th>origin</th>\n",
       "      <th>car name</th>\n",
       "    </tr>\n",
       "  </thead>\n",
       "  <tbody>\n",
       "    <tr>\n",
       "      <th>0</th>\n",
       "      <td>18.0</td>\n",
       "      <td>8</td>\n",
       "      <td>307.0</td>\n",
       "      <td>130.0</td>\n",
       "      <td>3504.0</td>\n",
       "      <td>12.0</td>\n",
       "      <td>70</td>\n",
       "      <td>1</td>\n",
       "      <td>chevrolet chevelle malibu</td>\n",
       "    </tr>\n",
       "    <tr>\n",
       "      <th>1</th>\n",
       "      <td>15.0</td>\n",
       "      <td>8</td>\n",
       "      <td>350.0</td>\n",
       "      <td>165.0</td>\n",
       "      <td>3693.0</td>\n",
       "      <td>11.5</td>\n",
       "      <td>70</td>\n",
       "      <td>1</td>\n",
       "      <td>buick skylark 320</td>\n",
       "    </tr>\n",
       "    <tr>\n",
       "      <th>2</th>\n",
       "      <td>18.0</td>\n",
       "      <td>8</td>\n",
       "      <td>318.0</td>\n",
       "      <td>150.0</td>\n",
       "      <td>3436.0</td>\n",
       "      <td>11.0</td>\n",
       "      <td>70</td>\n",
       "      <td>1</td>\n",
       "      <td>plymouth satellite</td>\n",
       "    </tr>\n",
       "    <tr>\n",
       "      <th>3</th>\n",
       "      <td>16.0</td>\n",
       "      <td>8</td>\n",
       "      <td>304.0</td>\n",
       "      <td>150.0</td>\n",
       "      <td>3433.0</td>\n",
       "      <td>12.0</td>\n",
       "      <td>70</td>\n",
       "      <td>1</td>\n",
       "      <td>amc rebel sst</td>\n",
       "    </tr>\n",
       "    <tr>\n",
       "      <th>4</th>\n",
       "      <td>17.0</td>\n",
       "      <td>8</td>\n",
       "      <td>302.0</td>\n",
       "      <td>140.0</td>\n",
       "      <td>3449.0</td>\n",
       "      <td>10.5</td>\n",
       "      <td>70</td>\n",
       "      <td>1</td>\n",
       "      <td>ford torino</td>\n",
       "    </tr>\n",
       "  </tbody>\n",
       "</table>\n",
       "</div>"
      ],
      "text/plain": [
       "    mpg  cylinders  displacement horsepower  weight  acceleration  model year  \\\n",
       "0  18.0          8         307.0      130.0  3504.0          12.0          70   \n",
       "1  15.0          8         350.0      165.0  3693.0          11.5          70   \n",
       "2  18.0          8         318.0      150.0  3436.0          11.0          70   \n",
       "3  16.0          8         304.0      150.0  3433.0          12.0          70   \n",
       "4  17.0          8         302.0      140.0  3449.0          10.5          70   \n",
       "\n",
       "   origin                   car name  \n",
       "0       1  chevrolet chevelle malibu  \n",
       "1       1          buick skylark 320  \n",
       "2       1         plymouth satellite  \n",
       "3       1              amc rebel sst  \n",
       "4       1                ford torino  "
      ]
     },
     "execution_count": 3,
     "metadata": {},
     "output_type": "execute_result"
    }
   ],
   "source": [
    "data.dropna()\n",
    "data.replace('?',-9999,inplace=True)\n",
    "data.head()"
   ]
  },
  {
   "cell_type": "code",
   "execution_count": 4,
   "metadata": {
    "collapsed": true
   },
   "outputs": [],
   "source": [
    "#Spliting data and target\n",
    "X=np.array(data.drop(['mpg','car name'],1))\n",
    "Y=np.array(data['mpg'])\n",
    "Y=Y.astype('int')"
   ]
  },
  {
   "cell_type": "code",
   "execution_count": 5,
   "metadata": {},
   "outputs": [
    {
     "data": {
      "text/plain": [
       "(298, 7)"
      ]
     },
     "execution_count": 5,
     "metadata": {},
     "output_type": "execute_result"
    }
   ],
   "source": [
    "#test train split\n",
    "from sklearn.model_selection import train_test_split\n",
    "X_train,X_test,Y_train,Y_test=train_test_split(X,Y,random_state=0)\n",
    "X_train.shape"
   ]
  },
  {
   "cell_type": "code",
   "execution_count": 6,
   "metadata": {},
   "outputs": [
    {
     "data": {
      "image/png": "[encoded data removed]",
      "text/plain": [
       "<matplotlib.figure.Figure at 0x1ffa3210ac8>"
      ]
     },
     "metadata": {},
     "output_type": "display_data"
    }
   ],
   "source": [
    "#KNearestNeighbours Regression\n",
    "from sklearn.neighbors import KNeighborsRegressor\n",
    "train_error_KNR=[]\n",
    "test_error_KNR=[]\n",
    "n=range(1,60)\n",
    "import matplotlib.pyplot as plt\n",
    "for i in n:\n",
    "    KNR=KNeighborsRegressor(n_neighbors=i)\n",
    "    KNR.fit(X_train,Y_train)\n",
    "    train_error_KNR.append(KNR.score(X_train,Y_train))\n",
    "    test_error_KNR.append(KNR.score(X_test,Y_test))\n",
    "plt.plot(n,train_error_KNR,label=\"Training error\")   \n",
    "plt.plot(n,test_error_KNR,label=\"Testing error\")\n",
    "plt.xlabel(\"Neighbors\")\n",
    "plt.ylabel(\"Accuracy\")\n",
    "plt.legend()\n",
    "plt.show()"
   ]
  },
  {
   "cell_type": "markdown",
   "metadata": {
    "collapsed": true
   },
   "source": [
    "Points to know\n",
    "1.Test error is less the training error till neighbors are equal to 20.\n",
    "2.After neighbors equal to 20 ,test error is greater then train error (overfitting).\n",
    "3.From 1 to 14 test error is far less train error (underfitting).\n",
    "4.The sweet spot for neighbors equal from 14 to 20.\n",
    "5.We are getting test accuracy upto 75%"
   ]
  },
  {
   "cell_type": "code",
   "execution_count": 7,
   "metadata": {},
   "outputs": [
    {
     "name": "stdout",
     "output_type": "stream",
     "text": [
      "Linear Regression Coefficient:[-2.97541024e-01  1.85917749e-02  7.10158215e-05 -6.96899983e-03\n",
      "  2.96427691e-01  7.23823180e-01  1.52197789e+00]\n",
      "Linear Regression intercept:-20.083243179462677\n",
      "Linear Regression Training error:0.8160185330235501\n",
      "Linear Regression Testing error:0.8116796251929705\n"
     ]
    }
   ],
   "source": [
    "#Linear Regression\n",
    "from sklearn.linear_model import LinearRegression\n",
    "lr=LinearRegression().fit(X_train,Y_train)\n",
    "print(\"Linear Regression Coefficient:{}\".format(lr.coef_))\n",
    "print(\"Linear Regression intercept:{}\".format(lr.intercept_))\n",
    "print(\"Linear Regression Training error:{}\".format(lr.score(X_train,Y_train)))\n",
    "print(\"Linear Regression Testing error:{}\".format(lr.score(X_test,Y_test)))"
   ]
  },
  {
   "cell_type": "markdown",
   "metadata": {},
   "source": [
    "Since the Training and Test error is clso we can say that there is niether overfitting or underfiiting"
   ]
  },
  {
   "cell_type": "code",
   "execution_count": 8,
   "metadata": {},
   "outputs": [
    {
     "name": "stdout",
     "output_type": "stream",
     "text": [
      "Ridge Regression Coefficient:[-2.92240478e-01  1.84167694e-02  7.17616770e-05 -6.96859660e-03\n",
      "  2.95466957e-01  7.23583828e-01  1.50779369e+00]\n",
      "Ridge Regression intercept:-20.023933358142145\n",
      "Ridge Regression Training error:0.8160172129669989\n",
      "Ridge Regression Testing error:0.8117780349116067\n"
     ]
    }
   ],
   "source": [
    "#Ridge Regression\n",
    "from sklearn.linear_model import Ridge\n",
    "r=Ridge().fit(X_train,Y_train)\n",
    "print(\"Ridge Regression Coefficient:{}\".format(r.coef_))\n",
    "print(\"Ridge Regression intercept:{}\".format(r.intercept_))\n",
    "print(\"Ridge Regression Training error:{}\".format(r.score(X_train,Y_train)))\n",
    "print(\"Ridge Regression Testing error:{}\".format(r.score(X_test,Y_test)))"
   ]
  },
  {
   "cell_type": "markdown",
   "metadata": {},
   "source": [
    "Since the Training and Test error is clso we can say that there is niether overfitting or underfiiting"
   ]
  },
  {
   "cell_type": "code",
   "execution_count": 9,
   "metadata": {},
   "outputs": [
    {
     "name": "stdout",
     "output_type": "stream",
     "text": [
      "Lasso Regression Coefficient:[-0.00000000e+00 -1.17557363e-03  1.34211154e-04 -6.60012182e-03\n",
      "  1.98024913e-02  6.52875607e-01  0.00000000e+00]\n",
      "Lasso Regression intercept:-6.862972801889033\n",
      "Lasso Regression Training error:0.7972985759470326\n",
      "Lasso Regression Testing error:0.8186572802479951\n"
     ]
    }
   ],
   "source": [
    "#Lasso Regression\n",
    "from sklearn.linear_model import Lasso\n",
    "l=Lasso().fit(X_train,Y_train)\n",
    "print(\"Lasso Regression Coefficient:{}\".format(l.coef_))\n",
    "print(\"Lasso Regression intercept:{}\".format(l.intercept_))\n",
    "print(\"Lasso Regression Training error:{}\".format(l.score(X_train,Y_train)))\n",
    "print(\"Lasso Regression Testing error:{}\".format(l.score(X_test,Y_test)))"
   ]
  },
  {
   "cell_type": "markdown",
   "metadata": {},
   "source": [
    "Since the Training and Test error is clso we can say that there is niether overfitting or underfiiting"
   ]
  },
  {
   "cell_type": "code",
   "execution_count": 10,
   "metadata": {},
   "outputs": [
    {
     "data": {
      "image/png": "[encoded data removed]",
      "text/plain": [
       "<matplotlib.figure.Figure at 0x1ffaedf6940>"
      ]
     },
     "metadata": {},
     "output_type": "display_data"
    }
   ],
   "source": [
    "#Deccisio Tree Regression\n",
    "from sklearn.tree import DecisionTreeRegressor\n",
    "DTR=DecisionTreeRegressor().fit(X_train,Y_train)\n",
    "Y_PR=DTR.predict(X_test)\n",
    "#no of test example=100\n",
    "i=range(1,101)\n",
    "plt.scatter(i,Y_PR,color=\"green\",label=\"Prediction\",linewidth=2)\n",
    "plt.scatter(i,Y_test,color=\"red\",label=\"Actual\",linewidth=2)\n",
    "plt.legend()\n",
    "plt.show()"
   ]
  },
  {
   "cell_type": "code",
   "execution_count": 11,
   "metadata": {},
   "outputs": [
    {
     "name": "stdout",
     "output_type": "stream",
     "text": [
      "Accuracy :  0.14\n",
      "Report :               precision    recall  f1-score   support\n",
      "\n",
      "        9.0       0.00      0.00      0.00         0\n",
      "       10.0       0.00      0.00      0.00         1\n",
      "       11.0       0.00      0.00      0.00         1\n",
      "       12.0       0.67      1.00      0.80         2\n",
      "       13.0       0.00      0.00      0.00         2\n",
      "       14.0       0.17      0.17      0.17         6\n",
      "       15.0       0.33      0.22      0.27         9\n",
      "       16.0       0.20      0.33      0.25         3\n",
      "       17.0       0.00      0.00      0.00         3\n",
      "       18.0       0.33      0.10      0.15        10\n",
      "       19.0       0.00      0.00      0.00         1\n",
      "       20.0       0.33      0.25      0.29         4\n",
      "       21.0       0.33      0.50      0.40         2\n",
      "       22.0       0.00      0.00      0.00         4\n",
      "       23.0       0.00      0.00      0.00         5\n",
      "       24.0       0.00      0.00      0.00         5\n",
      "       25.0       0.00      0.00      0.00         3\n",
      "       26.0       0.10      0.20      0.13         5\n",
      "       27.0       0.33      0.25      0.29         4\n",
      "       28.0       0.00      0.00      0.00         1\n",
      "       29.0       0.00      0.00      0.00         2\n",
      "       30.0       0.25      0.33      0.29         3\n",
      "       31.0       0.17      0.25      0.20         4\n",
      "       32.0       0.00      0.00      0.00         3\n",
      "       33.0       0.00      0.00      0.00         2\n",
      "       34.0       0.50      0.25      0.33         4\n",
      "       35.0       0.00      0.00      0.00         2\n",
      "       36.0       0.00      0.00      0.00         3\n",
      "       37.0       0.00      0.00      0.00         3\n",
      "       38.0       0.00      0.00      0.00         1\n",
      "       39.0       0.00      0.00      0.00         0\n",
      "       40.0       0.00      0.00      0.00         1\n",
      "       41.0       0.00      0.00      0.00         1\n",
      "       43.0       0.00      0.00      0.00         0\n",
      "       46.0       0.00      0.00      0.00         0\n",
      "\n",
      "avg / total       0.17      0.14      0.14       100\n",
      "\n"
     ]
    },
    {
     "name": "stderr",
     "output_type": "stream",
     "text": [
      "C:\\Users\\simi_\\Anaconda3\\lib\\site-packages\\sklearn\\metrics\\classification.py:1135: UndefinedMetricWarning: Precision and F-score are ill-defined and being set to 0.0 in labels with no predicted samples.\n",
      "  'precision', 'predicted', average, warn_for)\n",
      "C:\\Users\\simi_\\Anaconda3\\lib\\site-packages\\sklearn\\metrics\\classification.py:1137: UndefinedMetricWarning: Recall and F-score are ill-defined and being set to 0.0 in labels with no true samples.\n",
      "  'recall', 'true', average, warn_for)\n"
     ]
    }
   ],
   "source": [
    "from sklearn.metrics import accuracy_score \n",
    "from sklearn.metrics import classification_report \n",
    "print (\"Accuracy : \",accuracy_score(Y_test,Y_PR))     \n",
    "print(\"Report : \",classification_report(Y_test, Y_PR)) "
   ]
  },
  {
   "cell_type": "markdown",
   "metadata": {},
   "source": [
    "Decission Tree score is very poor"
   ]
  },
  {
   "cell_type": "markdown",
   "metadata": {},
   "source": [
    "Since Ridge regression score is the best , we will optimise it "
   ]
  },
  {
   "cell_type": "code",
   "execution_count": 12,
   "metadata": {},
   "outputs": [
    {
     "data": {
      "image/png": "[encoded data removed]",
      "text/plain": [
       "<matplotlib.figure.Figure at 0x1ffaad38e80>"
      ]
     },
     "metadata": {},
     "output_type": "display_data"
    }
   ],
   "source": [
    "i =range(1,100000)\n",
    "train_error_R=[]\n",
    "test_error_R=[]\n",
    "for a in i:\n",
    "    b=float(a/100)\n",
    "    r=Ridge(alpha=b).fit(X_train,Y_train)\n",
    "    train_error_R.append(r.score(X_train,Y_train))\n",
    "    test_error_R.append(r.score(X_test,Y_test))\n",
    "plt.plot(i,train_error_R,label=\"Training error\")   \n",
    "plt.plot(i,test_error_R,label=\"Testing error\")\n",
    "plt.xlabel(\"Alpha*100\")\n",
    "plt.ylabel(\"Accuracy\")\n",
    "plt.legend()\n",
    "plt.show()"
   ]
  },
  {
   "cell_type": "markdown",
   "metadata": {},
   "source": [
    "Maximum acuuracy is close to 81.5%"
   ]
  }
 ],
 "metadata": {
  "kernelspec": {
   "display_name": "Python 3",
   "language": "python",
   "name": "python3"
  },
  "language_info": {
   "codemirror_mode": {
    "name": "ipython",
    "version": 3
   },
   "file_extension": ".py",
   "mimetype": "text/x-python",
   "name": "python",
   "nbconvert_exporter": "python",
   "pygments_lexer": "ipython3",
   "version": "3.6.2"
  }
 },
 "nbformat": 4,
 "nbformat_minor": 2
}
